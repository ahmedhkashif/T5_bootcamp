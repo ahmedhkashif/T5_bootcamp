{
  "cells": [
    {
      "cell_type": "markdown",
      "metadata": {
        "id": "swyRFq9rkcal"
      },
      "source": [
        "# Exercise: Regular Expressions"
      ]
    },
    {
      "cell_type": "code",
      "execution_count": 2,
      "metadata": {
        "id": "ydfUjY4Rkcan"
      },
      "outputs": [],
      "source": [
        "import re"
      ]
    },
    {
      "cell_type": "code",
      "execution_count": null,
      "metadata": {
        "id": "I8WSXp6ekcao",
        "outputId": "84b0afb5-8026-4d32-ab51-85aa7ccba51e"
      },
      "outputs": [
        {
          "name": "stdout",
          "output_type": "stream",
          "text": [
            "Username: john\n",
            "Mailserver: email\n",
            "Domain: com\n",
            "\n",
            "Username: mary\n",
            "Mailserver: otherplace\n",
            "Domain: net\n",
            "\n",
            "Username: support\n",
            "Mailserver: ourcompany\n",
            "Domain: co\n",
            "\n"
          ]
        }
      ],
      "source": [
        "#1 Question: Match all email addresses (SOLVED)\n",
        "\n",
        "inputs = [\"My email is john@email.com and mary@otherplace.net\",\n",
        "          \"Visit us at support@ourcompany.co.uk for help\",\n",
        "          \"No emails here\"]\n",
        "\n",
        "pattern = r\"(\\w+)@(\\w+)\\.(\\w+)\"\n",
        "\n",
        "matches = []\n",
        "for input in inputs:\n",
        "    matches += re.findall(pattern, input)\n",
        "\n",
        "for m in matches:\n",
        "    username = m[0]\n",
        "    mailserver = m[1]\n",
        "    domain = m[2]\n",
        "    print(f\"Username: {username}\")\n",
        "    print(f\"Mailserver: {mailserver}\")\n",
        "    print(f\"Domain: {domain}\")\n",
        "    print('')"
      ]
    },
    {
      "cell_type": "code",
      "execution_count": 3,
      "metadata": {
        "colab": {
          "base_uri": "https://localhost:8080/"
        },
        "id": "SMfE8Bw5kcap",
        "outputId": "c73e6ba7-1a95-43f2-d786-bdf738fd5b9d"
      },
      "outputs": [
        {
          "output_type": "stream",
          "name": "stdout",
          "text": [
            "email.com\n",
            "gmail.com\n",
            "ourcompany.co.uk\n"
          ]
        }
      ],
      "source": [
        "#2 Question: Extract domain from email\n",
        "\n",
        "inputs = [\"john@email.com\",\n",
        "          \"mary+newsletter@gmail.com\",\n",
        "          \"support@ourcompany.co.uk\"]\n",
        "\n",
        "\n",
        "pattern = r'@(.+)$'\n",
        "domains = []\n",
        "for email in inputs:\n",
        "    match = re.search(pattern, email)\n",
        "    if match:\n",
        "        domain = match.group(1)\n",
        "        domains.append(domain)\n",
        "for domain in domains:\n",
        "    print(domain)\n"
      ]
    },
    {
      "cell_type": "code",
      "execution_count": 4,
      "metadata": {
        "id": "4RVl6kIzkcaq",
        "colab": {
          "base_uri": "https://localhost:8080/"
        },
        "outputId": "9fdc39d4-a80f-44e2-fc1f-2b2d2857d73c"
      },
      "outputs": [
        {
          "output_type": "stream",
          "name": "stdout",
          "text": [
            "555-123-4567\n"
          ]
        }
      ],
      "source": [
        "#3 Question: Validate phone number\n",
        "\n",
        "inputs = [\"555-123-4567\",\n",
        "          \"1 (234) 567-8910\",\n",
        "          \"notaphonenumber\"]\n",
        "\n",
        "pattern = r'\\b(\\d{3}[-.\\s]?\\d{3}[-.\\s]?\\d{4}|\\(\\d{3}\\)\\s?\\d{3}[-.\\s]?\\d{4})\\b'\n",
        "\n",
        "phone_numbers = []\n",
        "for text in inputs:\n",
        "    matches = re.findall(pattern, text)\n",
        "    if matches:\n",
        "        phone_numbers.extend(matches)\n",
        "for phone_number in phone_numbers:\n",
        "    print(phone_number)\n"
      ]
    },
    {
      "cell_type": "code",
      "execution_count": 5,
      "metadata": {
        "id": "uZKG0Sfmkcaq",
        "colab": {
          "base_uri": "https://localhost:8080/"
        },
        "outputId": "82821326-b41f-4312-e3f5-f2d84e5f3178"
      },
      "outputs": [
        {
          "output_type": "stream",
          "name": "stdout",
          "text": [
            "555\n",
            "234\n",
            "None\n"
          ]
        }
      ],
      "source": [
        "#4 Question: Extract area code\n",
        "\n",
        "inputs = [\"(555) 123-4567\",\n",
        "          \"1 (234) 567-8910\",\n",
        "          \"5551234567\"]\n",
        "\n",
        "# your code here ...:\n",
        "\n",
        "# Define a regular expression pattern to match the area code\n",
        "pattern = r'\\((\\d{3})\\)|(\\d{3})\\s|-|\\s'\n",
        "\n",
        "def extract_area_code(phone_number):\n",
        "    matches = re.findall(pattern, phone_number)\n",
        "    for match in matches:\n",
        "        for group in match:\n",
        "            if group:\n",
        "                return group\n",
        "\n",
        "for phone_number in inputs:\n",
        "    area_code = extract_area_code(phone_number)\n",
        "    print(area_code)\n"
      ]
    },
    {
      "cell_type": "code",
      "execution_count": 6,
      "metadata": {
        "id": "CiaCy2K6kcaq",
        "colab": {
          "base_uri": "https://localhost:8080/"
        },
        "outputId": "feea8e2e-d312-4bb9-a114-28812b3c4fa7"
      },
      "outputs": [
        {
          "output_type": "stream",
          "name": "stdout",
          "text": [
            "www.example.com\n"
          ]
        }
      ],
      "source": [
        "pattern = r'https?://([A-Za-z0-9.-]+)'\n",
        "\n",
        "# Function to extract the host (domain) from a URL\n",
        "def extract_host_from_url(text):\n",
        "    matches = re.findall(pattern, text)\n",
        "    if matches:\n",
        "        return matches[0]\n",
        "inputs = [\"Visit https://www.example.com for more info\",\n",
        "          \"Our website is example.com\",\n",
        "          \"No URLs here\"]\n",
        "for text in inputs:\n",
        "    host = extract_host_from_url(text)\n",
        "    if host:\n",
        "        print(host)"
      ]
    },
    {
      "cell_type": "code",
      "execution_count": 7,
      "metadata": {
        "id": "loYU8ybAkcar",
        "colab": {
          "base_uri": "https://localhost:8080/"
        },
        "outputId": "08f79b8d-8484-43b1-f89e-1c2a7dc9f011"
      },
      "outputs": [
        {
          "output_type": "stream",
          "name": "stdout",
          "text": [
            "Hello world\n",
            " Main St\n",
            "greetingsmore\n"
          ]
        }
      ],
      "source": [
        "#6 Question: Remove non-alphabetic characters\n",
        "\n",
        "def remove_non_alphabetic(text):\n",
        "    cleaned_text = re.sub(r'[^a-zA-Z ]', '', text)\n",
        "    return cleaned_text\n",
        "\n",
        "# List of input strings\n",
        "inputs = [\"Hello world!\", \"123 Main St.\", \"greetings&more\"]\n",
        "\n",
        "for text in inputs:\n",
        "    cleaned_text = remove_non_alphabetic(text)\n",
        "    print(cleaned_text)\n",
        "# your code here ...:"
      ]
    },
    {
      "cell_type": "code",
      "execution_count": 8,
      "metadata": {
        "id": "94s5yydGkcar",
        "colab": {
          "base_uri": "https://localhost:8080/"
        },
        "outputId": "1081ee71-7291-46cb-8882-746a33db1f07"
      },
      "outputs": [
        {
          "output_type": "stream",
          "name": "stdout",
          "text": [
            "['station']\n",
            "['tion']\n",
            "['motion', 'activation', 'vacation']\n"
          ]
        }
      ],
      "source": [
        "#7 Question: Find words containing \"tion\"\n",
        "\n",
        "def find_words_with_tion(text):\n",
        "    matches = re.findall(r'\\b\\w*tion\\w*\\b', text)\n",
        "    return matches\n",
        "\n",
        "inputs = [\"This is a test sentence with the word station in it.\",\n",
        "          \"No words containing tion here\",\n",
        "          \"motion activation vacation\"]\n",
        "for text in inputs:\n",
        "    tion_words = find_words_with_tion(text)\n",
        "    if tion_words:\n",
        "        print(tion_words)"
      ]
    },
    {
      "cell_type": "code",
      "execution_count": null,
      "metadata": {
        "id": "iBJKkVZOkcar"
      },
      "outputs": [],
      "source": [
        "def replace_hello_with_goodbye(text):\n",
        "    modified_text = text.replace(\"hello\", \"goodbye\")\n",
        "    return modified_text\n",
        "input_string = \"hello, world! This is a simple hello example.\"\n",
        "result = replace_hello_with_goodbye(input_string)\n",
        "print(result)\n"
      ]
    },
    {
      "cell_type": "code",
      "execution_count": 9,
      "metadata": {
        "id": "1FkPYC9bkcas",
        "colab": {
          "base_uri": "https://localhost:8080/"
        },
        "outputId": "8c190b6e-2ab9-470e-aff8-0ff57c19d57b"
      },
      "outputs": [
        {
          "output_type": "stream",
          "name": "stdout",
          "text": [
            "['2023-01-15']\n",
            "['2023-02-01T13:00:00Z']\n"
          ]
        }
      ],
      "source": [
        "#9 Question: Extract date strings in ISO8601 format\n",
        "\n",
        "\n",
        "inputs = [\"Log from 2023-01-15\",\n",
        "          \"Meeting on 2023-02-01T13:00:00Z\",\n",
        "          \"No dates\"]\n",
        "def extract_iso8601_dates(text):\n",
        "    iso8601_dates = re.findall(r'\\d{4}-\\d{2}-\\d{2}(?:T\\d{2}:\\d{2}:\\d{2}Z)?', text)\n",
        "    return iso8601_dates\n",
        "for text in inputs:\n",
        "    iso8601_dates = extract_iso8601_dates(text)\n",
        "    if iso8601_dates:\n",
        "        print(iso8601_dates)"
      ]
    },
    {
      "cell_type": "code",
      "execution_count": 15,
      "metadata": {
        "id": "LOyUxJCKkcas",
        "colab": {
          "base_uri": "https://localhost:8080/"
        },
        "outputId": "d0e62994-dd99-42c5-ddc2-9473909de3c9"
      },
      "outputs": [
        {
          "output_type": "stream",
          "name": "stdout",
          "text": [
            "\"2023-01-15\" is valid: True\n",
            "\"02/01/2023\" is valid: False\n",
            "\"invalid date\" is valid: False\n"
          ]
        }
      ],
      "source": [
        "#10 Question: Validate correctly formatted date\n",
        "\n",
        "\n",
        "def validate_dates(text):\n",
        "    if re.match(r'\\d{4}-\\d{2}-\\d{2}', text):\n",
        "        return True\n",
        "    else:\n",
        "        return False\n",
        "\n",
        "inputs = [\"2023-01-15\", \"02/01/2023\", \"invalid date\"]\n",
        "\n",
        "for date in inputs:\n",
        "    is_valid = validate_dates(date)\n",
        "    print(f'\"{date}\" is valid: {is_valid}')\n",
        "\n"
      ]
    },
    {
      "cell_type": "code",
      "execution_count": 14,
      "metadata": {
        "id": "sDGjP0RDkcat",
        "colab": {
          "base_uri": "https://localhost:8080/"
        },
        "outputId": "af96a8d5-66a8-4491-dd9c-45896db7d10d"
      },
      "outputs": [
        {
          "output_type": "stream",
          "name": "stdout",
          "text": [
            "Hello World\n",
            "123-Main_St\n",
            "Hi there\n"
          ]
        }
      ],
      "source": [
        "#11 Question: Remove punctuation except hyphens\n",
        "\n",
        "inputs = [\"Hello! World?\",\n",
        "          \"123-Main_St.\",\n",
        "          \"Hi there.\"]\n",
        "\n",
        "def remove_punctuation_except_hyphens(text):\n",
        "    cleaned_text = re.sub(r'[^\\w\\s-]', '', text)\n",
        "    return cleaned_text\n",
        "for text in inputs:\n",
        "    cleaned_text = remove_punctuation_except_hyphens(text)\n",
        "    print(cleaned_text)\n"
      ]
    },
    {
      "cell_type": "code",
      "execution_count": 13,
      "metadata": {
        "id": "KS5GCTSSkcat",
        "colab": {
          "base_uri": "https://localhost:8080/"
        },
        "outputId": "e0a2d71b-0f42-4c7f-a69a-fa9588386abb"
      },
      "outputs": [
        {
          "output_type": "stream",
          "name": "stdout",
          "text": [
            "The word \"hello\" appears 4 times.\n"
          ]
        }
      ],
      "source": [
        "#12 Question: Count occurrences of a word\n",
        "\n",
        "inputs = [\"Hello world. Hello!\",\n",
        "          \"Hello hello world\",\n",
        "          \"no match\"]\n",
        "import re\n",
        "\n",
        "def count_word_occurrences(word, text_list):\n",
        "    word = word.lower()\n",
        "    count = 0\n",
        "\n",
        "    pattern = r'\\b' + re.escape(word) + r'\\b'\n",
        "\n",
        "    for text in text_list:\n",
        "        matches = re.findall(pattern, text.lower())\n",
        "        count += len(matches)\n",
        "\n",
        "    return count\n",
        "\n",
        "inputs = [\"Hello world. Hello!\", \"Hello hello world\", \"no match\"]\n",
        "word_to_count = \"hello\"\n",
        "occurrences = count_word_occurrences(word_to_count, inputs)\n",
        "print(f'The word \"{word_to_count}\" appears {occurrences} times.')\n"
      ]
    },
    {
      "cell_type": "code",
      "execution_count": 11,
      "metadata": {
        "id": "SySUsKFNkcat",
        "colab": {
          "base_uri": "https://localhost:8080/"
        },
        "outputId": "e6c66c0b-6eba-40ba-ccf0-0bd5b96334c7"
      },
      "outputs": [
        {
          "output_type": "stream",
          "name": "stdout",
          "text": [
            "['127.0.0.1']\n",
            "['192.168.1.1']\n"
          ]
        }
      ],
      "source": [
        "#13 Question: Extract IP addresses from log\n",
        "\n",
        "def extract_ip_addresses(text):\n",
        "    # Use a regular expression to find IP addresses\n",
        "    ip_addresses = re.findall(r'\\b(?:\\d{1,3}\\.){3}\\d{1,3}\\b', text)\n",
        "    return ip_addresses\n",
        "\n",
        "inputs = [\"127.0.0.1 - GET /\",\n",
        "          \"User logged in from 192.168.1.1\",\n",
        "          \"No IPs\"]\n",
        "\n",
        "for text in inputs:\n",
        "    ip_addresses = extract_ip_addresses(text)\n",
        "    if ip_addresses:\n",
        "        print(ip_addresses)\n",
        "# your code here ...:"
      ]
    },
    {
      "cell_type": "code",
      "execution_count": 10,
      "metadata": {
        "id": "vwaHrCqIkcau",
        "colab": {
          "base_uri": "https://localhost:8080/"
        },
        "outputId": "c50399ef-b7ac-4267-db33-7672fe3d0f8a"
      },
      "outputs": [
        {
          "output_type": "stream",
          "name": "stdout",
          "text": [
            "Visa: XXXX-XXXX-XXXX-XXXX\n",
            "My SSN is XXX-XX-XXXX\n",
            "No numbers\n"
          ]
        }
      ],
      "source": [
        "#14 Question: Redact credit card and SSN numbers\n",
        "def redact_numbers(text):\n",
        "    text = re.sub(r'\\b\\d{4}-\\d{4}-\\d{4}-\\d{4}\\b', 'XXXX-XXXX-XXXX-XXXX', text)\n",
        "\n",
        "    text = re.sub(r'\\b\\d{3}-\\d{2}-\\d{4}\\b', 'XXX-XX-XXXX', text)\n",
        "\n",
        "    return text\n",
        "\n",
        "inputs = [\"Visa: 4111-1111-1111-1111\",\n",
        "          \"My SSN is 111-11-1111\",\n",
        "          \"No numbers\"]\n",
        "\n",
        "for text in inputs:\n",
        "    redacted_text = redact_numbers(text)\n",
        "    print(redacted_text)"
      ]
    }
  ],
  "metadata": {
    "kernelspec": {
      "display_name": "ds",
      "language": "python",
      "name": "python3"
    },
    "language_info": {
      "codemirror_mode": {
        "name": "ipython",
        "version": 3
      },
      "file_extension": ".py",
      "mimetype": "text/x-python",
      "name": "python",
      "nbconvert_exporter": "python",
      "pygments_lexer": "ipython3",
      "version": "3.9.18"
    },
    "colab": {
      "provenance": []
    }
  },
  "nbformat": 4,
  "nbformat_minor": 0
}